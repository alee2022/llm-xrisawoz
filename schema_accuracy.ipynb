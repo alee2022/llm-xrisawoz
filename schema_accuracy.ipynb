{
 "cells": [
  {
   "cell_type": "code",
   "execution_count": 1,
   "id": "84b1a44d",
   "metadata": {},
   "outputs": [],
   "source": [
    "import json"
   ]
  },
  {
   "cell_type": "code",
   "execution_count": 2,
   "id": "b5969e91",
   "metadata": {},
   "outputs": [],
   "source": [
    "with open(\"results_new/gpt-4/dst_en_results.json\") as json_file:\n",
    "    results = json.load(json_file)"
   ]
  },
  {
   "cell_type": "code",
   "execution_count": 37,
   "id": "13bc8f0f",
   "metadata": {},
   "outputs": [],
   "source": [
    "correct = 0\n",
    "incorrect = []\n",
    "idx = 0\n",
    "for ent in results:\n",
    "    schemas_p = ent[\"prediction\"].split(\", \")\n",
    "    schemas = ent[\"output\"].split(\"( \")\n",
    "    schemas.pop(0)\n",
    "    schemas_o = []\n",
    "    for sc in schemas:\n",
    "        sch = sc.split(\" \")\n",
    "        schemas_o.append(sch[0])\n",
    "    schemas_o.sort()\n",
    "    schemas_p.sort()\n",
    "    if len(schemas_o) != len(schemas_p):\n",
    "        incorrect.append((idx, schemas_o, schemas_p, schemas))\n",
    "        continue\n",
    "    flag = False\n",
    "    for i in range(len(schemas_o)):\n",
    "        if schemas_o[i] != schemas_p[i]:\n",
    "            flag = True\n",
    "            break\n",
    "    if not flag:\n",
    "        correct += 1\n",
    "    else:\n",
    "        incorrect.append(idx)\n",
    "        print(idx)\n",
    "    idx += 1"
   ]
  },
  {
   "cell_type": "code",
   "execution_count": 41,
   "id": "e0d11044",
   "metadata": {},
   "outputs": [],
   "source": [
    "with open(\"schemas.json\", \"r\") as json_file:\n",
    "    schemas = json.load(json_file)"
   ]
  },
  {
   "cell_type": "code",
   "execution_count": 42,
   "id": "bc94c77f",
   "metadata": {},
   "outputs": [
    {
     "data": {
      "text/plain": [
       "[{'movie': ['production_country_or_area', 'type', 'decade', 'star'],\n",
       "  'tv': ['decade', 'production_country_or_area', 'type', 'star'],\n",
       "  'attraction': ['area',\n",
       "   'consumption',\n",
       "   'name',\n",
       "   'type',\n",
       "   'the_most_suitable_people',\n",
       "   'metro_station'],\n",
       "  'restaurant': ['pricerange', 'name', 'area', 'cuisine', 'metro_station'],\n",
       "  'car': ['classification',\n",
       "   'hybrid',\n",
       "   'pricerange',\n",
       "   'brand',\n",
       "   'number_of_seats',\n",
       "   'series'],\n",
       "  'hotel': ['pricerange', 'room_type', 'name', 'area', 'star', 'hotel_type'],\n",
       "  'hospital': ['general_or_specialized', 'key_departments', 'name', 'area'],\n",
       "  'weather': ['city', 'date'],\n",
       "  'flight': ['class_cabin', 'date', 'departure', 'destination'],\n",
       "  'pc': ['brand',\n",
       "   'memory_capacity',\n",
       "   'screen_size',\n",
       "   'usage',\n",
       "   'series',\n",
       "   'computer_type',\n",
       "   'CPU',\n",
       "   'pricerange'],\n",
       "  'train': ['classification', 'destination', 'departure', 'date', 'seat_type'],\n",
       "  'class': ['grade', 'subject', 'day', 'time', 'area', 'level']}]"
      ]
     },
     "execution_count": 42,
     "metadata": {},
     "output_type": "execute_result"
    }
   ],
   "source": [
    "schemas"
   ]
  },
  {
   "cell_type": "code",
   "execution_count": null,
   "id": "a1139777",
   "metadata": {},
   "outputs": [],
   "source": []
  }
 ],
 "metadata": {
  "kernelspec": {
   "display_name": "Python 3 (ipykernel)",
   "language": "python",
   "name": "python3"
  },
  "language_info": {
   "codemirror_mode": {
    "name": "ipython",
    "version": 3
   },
   "file_extension": ".py",
   "mimetype": "text/x-python",
   "name": "python",
   "nbconvert_exporter": "python",
   "pygments_lexer": "ipython3",
   "version": "3.8.10"
  }
 },
 "nbformat": 4,
 "nbformat_minor": 5
}

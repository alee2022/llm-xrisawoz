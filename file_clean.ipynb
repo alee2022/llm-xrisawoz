{
 "cells": [
  {
   "cell_type": "code",
   "execution_count": 1,
   "id": "2d1dc247",
   "metadata": {},
   "outputs": [],
   "source": [
    "import json"
   ]
  },
  {
   "cell_type": "code",
   "execution_count": 19,
   "id": "c4102853",
   "metadata": {},
   "outputs": [],
   "source": [
    "langs = [\"zh\", \"hi\", \"fr\", \"enhi\"]"
   ]
  },
  {
   "cell_type": "code",
   "execution_count": 4,
   "id": "63e8da94",
   "metadata": {},
   "outputs": [],
   "source": [
    "subtasks = [\"api\", ]"
   ]
  },
  {
   "cell_type": "code",
   "execution_count": 21,
   "id": "3c5a1379",
   "metadata": {},
   "outputs": [],
   "source": [
    "for lang in langs:\n",
    "    filename = \"samples/da_\" + lang + \"_validfull.json\"\n",
    "    with open(filename, \"r\") as f:\n",
    "        samples = json.load(f)\n",
    "    outname = \"val/da_\" + lang + \".json\"\n",
    "    with open(outname, \"w\") as f:\n",
    "        json.dump(samples, f, indent=2, ensure_ascii=False)"
   ]
  },
  {
   "cell_type": "code",
   "execution_count": 18,
   "id": "b7136a09",
   "metadata": {},
   "outputs": [],
   "source": [
    "for lang in [\"en\", \"ko\"]:\n",
    "    api = []\n",
    "    da = []\n",
    "    rg = []\n",
    "    filename = \"data/multi-llama/\" + lang + \"valid.json\"\n",
    "    with open(filename, \"r\") as f:\n",
    "        samples = json.load(f)\n",
    "    for i in range(len(samples)):\n",
    "        if i % 4 == 1:\n",
    "            api.append(samples[i])\n",
    "        if i % 4 == 2:\n",
    "            da.append(samples[i])\n",
    "        if i % 4 == 3:\n",
    "            rg.append(samples[i])\n",
    "    with open(\"val/api_\" + lang + \".json\", \"w\") as f:\n",
    "        json.dump(api, f, indent=2, ensure_ascii=False)\n",
    "    with open(\"val/da_\" + lang + \".json\", \"w\") as f:\n",
    "        json.dump(da, f, indent=2, ensure_ascii=False)\n",
    "    with open(\"val/rg_\" + lang + \".json\", \"w\") as f:\n",
    "        json.dump(rg, f, indent=2, ensure_ascii=False)"
   ]
  },
  {
   "cell_type": "code",
   "execution_count": null,
   "id": "e001bc5f",
   "metadata": {},
   "outputs": [],
   "source": []
  }
 ],
 "metadata": {
  "kernelspec": {
   "display_name": "Python 3 (ipykernel)",
   "language": "python",
   "name": "python3"
  },
  "language_info": {
   "codemirror_mode": {
    "name": "ipython",
    "version": 3
   },
   "file_extension": ".py",
   "mimetype": "text/x-python",
   "name": "python",
   "nbconvert_exporter": "python",
   "pygments_lexer": "ipython3",
   "version": "3.8.10"
  }
 },
 "nbformat": 4,
 "nbformat_minor": 5
}

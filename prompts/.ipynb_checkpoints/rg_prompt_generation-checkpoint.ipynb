{
 "cells": [
  {
   "cell_type": "code",
   "execution_count": 1,
   "id": "ad2b7d49",
   "metadata": {},
   "outputs": [],
   "source": [
    "import json"
   ]
  },
  {
   "cell_type": "code",
   "execution_count": 2,
   "id": "1348d98c",
   "metadata": {},
   "outputs": [],
   "source": [
    "with open(\"../data/multi-llama/enfewshot.json\") as json_file:\n",
    "    prompts = json.load(json_file)"
   ]
  },
  {
   "cell_type": "code",
   "execution_count": 3,
   "id": "6a6b9633",
   "metadata": {},
   "outputs": [],
   "source": [
    "prompts_DST = []\n",
    "prompts_API = []\n",
    "prompts_DA = []\n",
    "prompts_RG = []\n",
    "for i in range(len(prompts)):\n",
    "    if i % 4 == 0:\n",
    "        prompts_DST.append(prompts[i])\n",
    "    elif i % 4 == 1:\n",
    "        prompts_API.append(prompts[i])\n",
    "    elif i % 4 == 2:\n",
    "        prompts_DA.append(prompts[i])\n",
    "    else:\n",
    "        prompts_RG.append(prompts[i])"
   ]
  },
  {
   "cell_type": "code",
   "execution_count": 74,
   "id": "d9a118db",
   "metadata": {},
   "outputs": [],
   "source": [
    "# dictionary from schema -> list of entities\n",
    "entities = dict()"
   ]
  },
  {
   "cell_type": "code",
   "execution_count": 75,
   "id": "7fea0c32",
   "metadata": {},
   "outputs": [],
   "source": [
    "def process_schema(schema, entities):\n",
    "    tokens = schema.split(\" ) \")\n",
    "    if not tokens[0] in entities:\n",
    "        entities[tokens[0]] = []\n",
    "    ents = tokens[1].split(\" , \")\n",
    "    for entity in ents:\n",
    "        ent = entity.split(\" \")\n",
    "        if not ent[0] in entities[tokens[0]]:\n",
    "            entities[tokens[0]].append(ent[0])"
   ]
  },
  {
   "cell_type": "code",
   "execution_count": 76,
   "id": "6bfe6ebc",
   "metadata": {},
   "outputs": [],
   "source": [
    "def process_prompt(prompt, entities):\n",
    "    schemas = prompt.split(\"( \")\n",
    "    schemas.pop(0)\n",
    "    for schema in schemas:\n",
    "        process_schema(schema, entities)"
   ]
  },
  {
   "cell_type": "code",
   "execution_count": 77,
   "id": "ab91111d",
   "metadata": {},
   "outputs": [],
   "source": [
    "process_prompt(prompts_DST[6][\"output\"], entities)"
   ]
  },
  {
   "cell_type": "code",
   "execution_count": 78,
   "id": "f76e425d",
   "metadata": {},
   "outputs": [],
   "source": [
    "for pmt in prompts_DST:\n",
    "    process_prompt(pmt[\"output\"], entities)"
   ]
  },
  {
   "cell_type": "code",
   "execution_count": 79,
   "id": "133d6cfe",
   "metadata": {},
   "outputs": [
    {
     "data": {
      "text/plain": [
       "{'movie': ['production_country_or_area', 'type', 'decade', 'star'],\n",
       " 'tv': ['decade', 'production_country_or_area', 'type', 'star'],\n",
       " 'attraction': ['area',\n",
       "  'consumption',\n",
       "  'name',\n",
       "  'type',\n",
       "  'the_most_suitable_people',\n",
       "  'metro_station'],\n",
       " 'restaurant': ['pricerange', 'name', 'area', 'cuisine', 'metro_station'],\n",
       " 'car': ['classification',\n",
       "  'hybrid',\n",
       "  'pricerange',\n",
       "  'brand',\n",
       "  'number_of_seats',\n",
       "  'series'],\n",
       " 'hotel': ['pricerange', 'room_type', 'name', 'area', 'star', 'hotel_type'],\n",
       " 'hospital': ['general_or_specialized', 'key_departments', 'name', 'area'],\n",
       " 'weather': ['city', 'date'],\n",
       " 'flight': ['class_cabin', 'date', 'departure', 'destination'],\n",
       " 'pc': ['brand',\n",
       "  'memory_capacity',\n",
       "  'screen_size',\n",
       "  'usage',\n",
       "  'series',\n",
       "  'computer_type',\n",
       "  'CPU',\n",
       "  'pricerange'],\n",
       " 'train': ['classification', 'destination', 'departure', 'date', 'seat_type'],\n",
       " 'class': ['grade', 'subject', 'day', 'time', 'area', 'level']}"
      ]
     },
     "execution_count": 79,
     "metadata": {},
     "output_type": "execute_result"
    }
   ],
   "source": [
    "entities"
   ]
  },
  {
   "cell_type": "code",
   "execution_count": 80,
   "id": "1cd2d69c",
   "metadata": {},
   "outputs": [],
   "source": [
    "with open(\"../schemas.json\", \"w\") as f:\n",
    "    json.dump([entities], f, indent=2, ensure_ascii=False)"
   ]
  },
  {
   "cell_type": "code",
   "execution_count": null,
   "id": "47147558",
   "metadata": {},
   "outputs": [],
   "source": [
    "# DST Schema-prompt indices\n",
    "# Movie: 1464 (star), 2376 (production_country_or_area, type), 432 (decade), 680, 2380, 456, 764\n",
    "# TV: 0 (production), 4 (decade), 552 (type), 1160 (star), 556, 560, 1164\n",
    "# attraction: 1244 (consumption, type), 1512 (area, most_suitable), 1784 (metro_station), 192 (name), 1516, 1800, 196\n",
    "# restaurant: 296 (pricerange), 200 (name), 332 (area, cuisine), 1624 (metro_station), 304, 208, 336\n",
    "# car: 72 (classification, hybrid, pricerange), 1028 (brand, number_of_seats), 2100 (series), 1136, 76, 1032, 2104\n",
    "# hotel: 2292 (pricerange), 364 (room_type, star) 1652 (name, hotel_type), 1668 (area), 2300, 372, 1656\n",
    "# hospital: 1992 (general_or_specialized, key_departments)  2620 (name, area), 160, 164, 2000, 2624, 168\n",
    "# weather: 1360, 856, 1094, 1912, 1364, 860, 1916\n",
    "# flight: 2032 (date, departure, destination), 2036(class_cabin), 2276, 2600, 2040, 2280, 2604\n",
    "# pc: 652 (brand, memory_capacity, screen_size, usage), 656 (series), 1324 (computer_type), 1336 (CPU, pricerange)\n",
    "# 660, 1328, 2240\n",
    "# train: 1536 (classification, destination, departure), 1692 (date), 1696 (seat_type), 2164, 1540, 1704, 2148\n",
    "# class: 1928 (grade, area), 948 (subject), 1752 (day, time), 2080 (level), 1932, 952, 968"
   ]
  },
  {
   "cell_type": "code",
   "execution_count": 3,
   "id": "97264ab7",
   "metadata": {},
   "outputs": [],
   "source": [
    "# indices = [3, 47, 103, 275, 191, 43] # RG\n",
    "indices = [0, 24, 40, 44, 56, 72, 104, 160, 212, 380, 652, 824, 944] # DST\n",
    "# indices = [2, 26, 42, 46, 58, 74, 106, 162, 214, 382, 654, 826, 946] # DA\n",
    "#indices = [157, 45, 101, 181, 189, 41] # API\n",
    "indices = [3, 27, 43, 47, 59, 75, 107, 163, 215, 383, 655, 827, 947]"
   ]
  },
  {
   "cell_type": "code",
   "execution_count": 39,
   "id": "c30d7724",
   "metadata": {},
   "outputs": [],
   "source": [
    "with open(\"../data/multi-llama/enhifewshot.json\") as json_file:\n",
    "    prompts = json.load(json_file)\n",
    "indices = [1, 821, 41, 45, 941, 73, 105, 2013, 213, 2045, 653, 825, 969]"
   ]
  },
  {
   "cell_type": "code",
   "execution_count": 40,
   "id": "7e32d193",
   "metadata": {},
   "outputs": [],
   "source": [
    "# API prompt prefix\n",
    "prompt_prefix = \"{{system_start}}Similar to the examples below, determine whether an API call is necessary to retrieve knowledge given current knowledge, belief state, and history.{{system_end}}\\n\\n\"\n",
    "prompt_suffix = \"{{user_start}}{{input_from_rg}}{{user_end}}\""
   ]
  },
  {
   "cell_type": "code",
   "execution_count": 41,
   "id": "a6612ff5",
   "metadata": {},
   "outputs": [],
   "source": [
    "prompt = prompt_prefix\n",
    "for idx in indices:\n",
    "    prompt += \"{{user_start}}\"\n",
    "    prompt += prompts[idx][\"input\"]\n",
    "    prompt += \"{{user_end}}\\n\"\n",
    "    prompt += \"{{assistant_start}}\"\n",
    "    prompt += prompts[idx][\"output\"]\n",
    "    prompt += \"{{assistant_end}}\\n\\n\"\n",
    "prompt += prompt_suffix"
   ]
  },
  {
   "cell_type": "code",
   "execution_count": 42,
   "id": "1feb5bc6",
   "metadata": {},
   "outputs": [
    {
     "name": "stdout",
     "output_type": "stream",
     "text": [
      "{{system_start}}Similar to the examples below, determine whether an API call is necessary to retrieve knowledge given current knowledge, belief state, and history.{{system_end}}\n",
      "\n",
      "{{user_start}}API: <knowledge> null <endofknowledge> <state> ( tv ) production_country_or_area equal_to \" Japan \" <endofstate> <history> USER: Hi, क्या आप कुछ आकर्षक Japanese TV shows की recommendation कर सकते हैं ? <endofhistory>{{user_end}}\n",
      "{{assistant_start}}yes{{assistant_end}}\n",
      "\n",
      "{{user_start}}API: <knowledge> ( tv ) available_options \" 20 \" , decade \" 2010s \" , director \" Sun Hao \" , douban_score \" 7 . 9 \" , episode_length \" 45 minutes \" , episodes \" 46 episodes \" , name_list \" Zhang Ruoyun/Li Qin/Chen Daoming/Wu Gang \" , premiere_time \" 2019-11-26 in the Chinese mainland \" , production_country_or_area \" Chinese mainland \" , star \" Zhang Ruoyun \" , title \" Joy of Life \" , type \" feature \" <endofknowledge> <state> ( tv ) type equal_to \" feature drama \" <endofstate> <history> AGENT_ACTS_PREV: ( tv ) recommend title equal_to \" Unnatural \" AGENT_ACTS: ( tv ) inform Douban_score equal_to \" 9 . 4 \" USER: महान , सिफारिशों के लिए धन्यवाद , अगर मेरे पास अन्य प्रश्न हैं तो मैं आपके पास आऊंग ा ।Bye ! <endofhistory>{{user_end}}\n",
      "{{assistant_start}}no{{assistant_end}}\n",
      "\n",
      "{{user_start}}API: <knowledge> ( movie ) available_options \" 12 \" , decade \" 1980s \" , director \" Rakesh Roshan \" , douban_score \" 8.0 \" , film_length \" 172 मिनट \" , name_list \" Shatrughan Sinha/Rakesh Roshan/Kabir Bedi \" , production_country_or_area \" India \" , release_date \" 1988-08-12 in India \" , star \" Shatrughan Sinha \" , title \" खून भरी मांग \" , type \" action \" , ( tv ) available_options \" 1 \" , decade \" 2010s \" , director \" Nobuhiro Doi \" , douban_score \" 9.1 \" , episode_length \" 45 minutes \" , episodes \" 10 episodes \" , name_list \" Matsu Takako/Mitsushima Hikari/Takahashi Issey \" , premiere_time \" 2017-01-17 in Japan \" , production_country_or_area \" Japan \" , star \" Matsu Takako \" , title \" Quartet \" , type \" suspenseful \" <endofknowledge> <state> ( movie ) production_country_or_area equal_to \" Indian \" , ( tv ) decade equal_to \" 2010s \" , production_country_or_area equal_to \" Japanese TV show \" <endofstate> <history> AGENT_ACTS_PREV: ( movie ) inform Douban_score equal_to \" 8.0 \" AGENT_ACTS: ( movie ) inform film_length equal_to \" 172 मिनट \" USER: ठीक है , your patience के लिए धन्यवाद , bye. <endofhistory>{{user_end}}\n",
      "{{assistant_start}}no{{assistant_end}}\n",
      "\n",
      "{{user_start}}API: <knowledge> null <endofknowledge> <state> ( attraction ) area equal_to \" Gusu District \" , consumption equal_to \" not that expensive \" <endofstate> <history> USER: Hi , मेरे friends मुझसे मिलने आ रहे हैं । क्या Gusu District मैं कोई scenic areas है that are not that expensive ? <endofhistory>{{user_end}}\n",
      "{{assistant_start}}yes{{assistant_end}}\n",
      "\n",
      "{{user_start}}API: <knowledge> ( attraction ) address \" जिंगगैंग स्ट्रीट , सूज़ौ इंडस्ट्रियल पार्क , सूज़ौ सिटी \" , area \" Suzhou Industrial Park \" , available_options \" 1 \" , consumption \" slightly expensive \" , features \" get a good view of tall buildings like the Gate of the Orient, ride the Ferris wheel, take a night cruise, and feel the modern side of Suzhou. \" , metro_station \" true \" , name \" Jinji Lake Scenic Area \" , opening_hours \" all day \" , phone_number \" 400-7558558 \" , score \" 4.5 \" , the_most_suitable_people \" dating \" , ticket_price \" free \" , type \" landscape scenic spot \" , ( hotel ) address \" Modern Leisure Plaza, Wangdun Road, Suzhou Industrial Park, Suzhou \" , area \" Suzhou Industrial Park \" , available_options \" 2 \" , hotel_type \" resort \" , name \" Suzhou Jinji Lake Shilla Hotel \" , parking \" free \" , phone_number \" 0512-62968888 \" , pricerange \" slightly expensive \" , room_charge \" 640 yuan \" , room_type \" king-size room \" , score \" 4.6 \" , star \" 5 \" , ( restaurant ) address \" B1, North Section, Suzhou Center, Xinggang Street \" , area \" Suzhou Industrial Park \" , available_options \" 2 \" , business_hours \" 10:00–22:00, Monday to Sunday \" , cuisine \" bread and desserts \" , dishes \" Starry Custard Bun \" , metro_station \" true \" , name \" LELECHA \" , per_capita_consumption \" 44 yuan \" , phone_number \" 0512-66363836 \" , pricerange \" cheap \" , score \" 4.5 \" <endofknowledge> <state> ( attraction ) area equal_to \" Suzhou Industrial Park \" , name equal_to \" Jinji Lake Scenic Area \" , type equal_to \" landscape scenic spots \" , ( hotel ) area equal_to \" Suzhou Industrial Park \" , name equal_to \" Jinji Lake शिला होटल \" , pricerange equal_to \" slightly more expensive \" , ( restaurant ) area equal_to \" Suzhou Industrial Park \" , cuisine equal_to \" bread और desserts \" <endofstate> <history> AGENT_ACTS_PREV: ( attraction ) inform opening_hours equal_to \" पूरे दिन \" , inform score equal_to \" 4 . 5 \" AGENT_ACTS: ( restaurant ) recommend name equal_to \" LELECHA \" USER: समझ गया। धन्यवाद , bye ! <endofhistory>{{user_end}}\n",
      "{{assistant_start}}no{{assistant_end}}\n",
      "\n",
      "{{user_start}}API: <knowledge> null <endofknowledge> <state> ( car ) hybrid equal_to \" gas \" , pricerange equal_to \" within 150,000 yuan \" <endofstate> <history> USER: Hello , I एक गैस powered SUV खरीदना चाहता हूँ, can you recommend one within 150,000 yuan? <endofhistory>{{user_end}}\n",
      "{{assistant_start}}yes{{assistant_end}}\n",
      "\n",
      "{{user_start}}API: <knowledge> ( restaurant ) address \" It is on 4F of Saige Digital Plaza, No. 318, Suya Road. \" , area \" Suzhou Industrial Park \" , available_options \" 1 \" , business_hours \" 09:00-07:00 , Monday से Sunday तक \" , cuisine \" Hotpot \" , dishes \" यह अनुशंसा की जाती 's कि आप tomato pot \" , metro_station \" false \" , name \" Haidilao Hot Pot \" , per_capita_consumption \" 127 yuan \" , phone_number \" 0512-67603337 \" , pricerange \" slightly expensive \" , score \" 4.8 \" <endofknowledge> <state> ( hotel ) pricerange equal_to \" not that expensive \" , room_type equal_to \" standard rooms \" , ( restaurant ) area equal_to \" Suzhou Industrial Park \" , name equal_to \" Haidilao Hot Pot \" , pricerange equal_to \" a bit more expensive \" <endofstate> <history> AGENT_ACTS_PREV: ( restaurant ) inform phone_number equal_to \" 0512-67603337 \" AGENT_ACTS: ( restaurant ) inform business_hours equal_to \" from Monday to Sunday, 09:00 - 07:00 \" USER: वाह , यह पूरी रात खुला है , फिर हम कुछ देर और रुक सकते हैं । Could you find a not that expensive hotel with standard rooms ? <endofhistory>{{user_end}}\n",
      "{{assistant_start}}yes{{assistant_end}}\n",
      "\n",
      "{{user_start}}API: <knowledge> ( hospital ) Message = No item available. <endofknowledge> <state> ( hospital ) general_or_specialized equal_to \" general hospital \" , key_departments equal_to \" श्वसन क्लिनिक \" , name equal_to \" of Soochow University First संबद्ध अस्पताल \" <endofstate> <history> AGENT_ACTS_PREV: ( hospital ) inform 3.0T_MRI equal_to \" हाँ \" AGENT_ACTS: ( hospital ) inform service_time equal_to \" 7:45-11:30 , 13:00-16:30 \" USER: ठीक है। Thanks , bye <endofhistory>{{user_end}}\n",
      "{{assistant_start}}no{{assistant_end}}\n",
      "\n",
      "{{user_start}}API: <knowledge> null <endofknowledge> <state> ( weather ) date equal_to \" next Sunday \" <endofstate> <history> USER: मैं अगले week work के लिए ज़ियामेन आऊंगा लेकिन अभी भी sure नहीं है कि मैं किस day निकलूंगा, यह मौसम पर depend करता है । Could you help me check the wind force and direction for next Sunday ? <endofhistory>{{user_end}}\n",
      "{{assistant_start}}yes{{assistant_end}}\n",
      "\n",
      "{{user_start}}API: <knowledge> ( flight ) arrival_time \" next day 00:15 \" , available_options \" 46 \" , class_cabin \" business class \" , date \" next Monday \" , departure \" Shanghai \" , departure_time \" 23:05 that day \" , destination \" Nanjing \" , flight_information \" MU2882 of China Eastern Airlines from Terminal 1 of Pudong International Airport to Terminal 2 of Lukou International Airport \" , punctuality_rate \" 100% \" , ticket_price \" 760 युआन \" , ( weather ) available_options \" 10 \" , city \" Beijing \" , date \" next Monday \" , temperature \" The maximum temperature will be 8 degrees Celsius, and the minimum temperature will be -6 degrees Celsius. \" , uv_intensity \" strong \" , weather_condition \" sunny \" , wind \" southwest force 3-4. \" <endofknowledge> <state> ( flight ) class_cabin equal_to \" business class \" , date equal_to \" next Monday \" , ( weather ) date equal_to \" next Monday \" <endofstate> <history> AGENT_ACTS_PREV: ( flight ) inform ticket_price equal_to \" 2 , 590 युआन \" AGENT_ACTS: ( flight ) inform arrival_time equal_to \" 13:30 that day. \" , inform departure_time equal_to \" 12:10 \" USER: Ok . No आगे questions . धन्यवाद। your service के लिए . <endofhistory>{{user_end}}\n",
      "{{assistant_start}}no{{assistant_end}}\n",
      "\n",
      "{{user_start}}API: <knowledge> null <endofknowledge> <state> ( pc ) brand equal_to \" Lenovo \" , memory_capacity equal_to \" 8GB \" , screen_size equal_to \" 14-inch \" , usage equal_to \" lightweight laptop \" <endofstate> <history> USER: Hello , I want to buy a 14-इंच lightweight लैपटॉप लेनोवो से , preferably with मेमोरी क्षमता 8GB की <endofhistory>{{user_end}}\n",
      "{{assistant_start}}yes{{assistant_end}}\n",
      "\n",
      "{{user_start}}API: <knowledge> null <endofknowledge> <state> ( train ) classification equal_to \" high-speed trains \" , destination equal_to \" Xiamen \" <endofstate> <history> USER: मैं next week business trip पर जाऊंग ा। क्या आप यह जांचने में मेरी help कर सकते हैं कि next week Xiamen के लिए कोई speed trains है या नहीं ? <endofhistory>{{user_end}}\n",
      "{{assistant_start}}yes{{assistant_end}}\n",
      "\n",
      "{{user_start}}API: <knowledge> ( class ) area \" Suzhou New District \" , available_options \" 12 \" , campus \" Jinhe International Building of the Suzhou New District \" , class_number \" PC6J44012A \" , classroom \" Room 209, Jinhe International Building \" , day \" Saturday \" , end_date \" June 20, 2020 \" , end_time \" 17:50 \" , grade \" sixth grade \" , hours \" 20 \" , level \" advanced class \" , price \" 1600 \" , start_date \" April 18, 2020 \" , start_time \" 15:50 \" , subject \" Chinese \" , teacher \" Liu Xin \" , time \" afternoon \" , times \" 10 \" , type \" face-to-face \" <endofknowledge> <state> ( class ) grade equal_to \" sixth grade \" , time equal_to \" afternoon \" <endofstate> <history> AGENT_ACTS_PREV: ( class ) inform start_time equal_to \" 17:40 \" AGENT_ACTS: ( class ) inform price equal_to \" 960 yuan \" USER: ठीक है , बहुत बहुत धन्यवाद। I need to talk to अपने बच्चे first , <endofhistory>{{user_end}}\n",
      "{{assistant_start}}no{{assistant_end}}\n",
      "\n",
      "{{user_start}}{{input_from_rg}}{{user_end}}\n"
     ]
    }
   ],
   "source": [
    "print(prompt)"
   ]
  },
  {
   "cell_type": "code",
   "execution_count": null,
   "id": "b5abb628",
   "metadata": {},
   "outputs": [],
   "source": []
  }
 ],
 "metadata": {
  "kernelspec": {
   "display_name": "Python 3 (ipykernel)",
   "language": "python",
   "name": "python3"
  },
  "language_info": {
   "codemirror_mode": {
    "name": "ipython",
    "version": 3
   },
   "file_extension": ".py",
   "mimetype": "text/x-python",
   "name": "python",
   "nbconvert_exporter": "python",
   "pygments_lexer": "ipython3",
   "version": "3.8.10"
  }
 },
 "nbformat": 4,
 "nbformat_minor": 5
}

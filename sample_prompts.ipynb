{
 "cells": [
  {
   "cell_type": "code",
   "execution_count": 1,
   "id": "4002e3ac",
   "metadata": {},
   "outputs": [],
   "source": [
    "import json\n",
    "import numpy as np\n",
    "import pickle"
   ]
  },
  {
   "cell_type": "code",
   "execution_count": 2,
   "id": "24836f3c",
   "metadata": {},
   "outputs": [],
   "source": [
    "with open(\"data/multi-llama/entest.json\") as json_file:\n",
    "    prompts = json.load(json_file)"
   ]
  },
  {
   "cell_type": "code",
   "execution_count": 4,
   "id": "d02ff5f5",
   "metadata": {},
   "outputs": [
    {
     "data": {
      "text/plain": [
       "4643.0"
      ]
     },
     "execution_count": 4,
     "metadata": {},
     "output_type": "execute_result"
    }
   ],
   "source": [
    "len(prompts)/4"
   ]
  },
  {
   "cell_type": "code",
   "execution_count": 7,
   "id": "b9963fb9",
   "metadata": {},
   "outputs": [],
   "source": [
    "with open(\"samples/dst_ko_test.json\", \"w\") as f:\n",
    "    json.dump(prompts_DST, f, indent=2, ensure_ascii=False)"
   ]
  },
  {
   "cell_type": "code",
   "execution_count": 3,
   "id": "863dd261",
   "metadata": {},
   "outputs": [],
   "source": [
    "prompts_DST = []\n",
    "prompts_API = []\n",
    "prompts_DA = []\n",
    "prompts_RG = []\n",
    "for i in range(len(prompts)):\n",
    "    if i % 4 == 0:\n",
    "        prompts_DST.append(prompts[i])\n",
    "    elif i % 4 == 1:\n",
    "        prompts_API.append(prompts[i])\n",
    "    elif i % 4 == 2:\n",
    "        prompts_DA.append(prompts[i])\n",
    "    else:\n",
    "        prompts_RG.append(prompts[i])"
   ]
  },
  {
   "cell_type": "code",
   "execution_count": 10,
   "id": "2989a240",
   "metadata": {},
   "outputs": [],
   "source": [
    "# samples_idx = np.random.choice(range(len(prompts)//4), size=1000, replace=False)\n",
    "# with open(\"test_indices\", \"wb\") as f:\n",
    "#      pickle.dump(samples_idx, f)"
   ]
  },
  {
   "cell_type": "code",
   "execution_count": 4,
   "id": "a2fdddd1",
   "metadata": {},
   "outputs": [],
   "source": [
    "with open(\"indices\", \"rb\") as f:\n",
    "    samples_idx = pickle.load(f)"
   ]
  },
  {
   "cell_type": "code",
   "execution_count": 11,
   "id": "7b4fff0a",
   "metadata": {},
   "outputs": [
    {
     "data": {
      "text/plain": [
       "array([2960, 2871, 1423, 1362,  250, 3005,  677, 1080, 3416, 4382, 2072,\n",
       "       3206, 3394,  901, 1627, 2642, 3578, 3386, 1087, 3505,  536, 2722,\n",
       "       3619,  644, 2054, 2863, 3211, 2965, 4183, 3015, 4127, 3011, 4275,\n",
       "       3764, 1705, 2317,   32, 1837, 2654, 2056, 2248,   42, 4081, 3863,\n",
       "       3330, 4125, 3890,  990, 3260, 1897, 1141, 3859,  628, 3404, 1673,\n",
       "       3451,   39,  735, 3327, 3712, 1467, 2236, 2343, 1569,  758,  688,\n",
       "       2263, 1270, 2859, 1496, 3705, 3785, 1739, 1622, 3407, 3819, 3477,\n",
       "       1721, 4207,  206,  690, 1865, 1843, 3955, 1650, 3740, 4122, 2562,\n",
       "       3864, 1885, 4342, 4593, 3030,  312, 4539, 2558, 1980, 1624, 2655,\n",
       "       1766,  415, 2424, 4132, 1541, 3445, 2683, 3481, 3686, 3642,  440,\n",
       "       4231, 1580, 1601,  708, 2667,  643, 1160, 4550, 2743, 4177, 4034,\n",
       "       1322, 1903, 1804, 3969, 2846, 4406, 3326,  869, 1713,  664,  359,\n",
       "        665, 1563, 2258,    2, 3886, 2102, 3315, 3085, 4607, 3611, 1325,\n",
       "        368, 3910, 1769, 4480, 2560, 1232, 3652, 4517, 3246, 4331, 4591,\n",
       "        711, 4007,  754, 3922, 1254,  350, 1469,  319, 1790, 1207, 3757,\n",
       "       2135, 2949, 2431, 3262,  881, 1574, 1642, 3101, 1741, 4161, 1392,\n",
       "       2737,  471, 4478, 4162, 3516, 2197, 4012, 1291, 3078, 4418,  400,\n",
       "       2337, 1908, 2508, 4308, 1905, 3322, 2362,  752, 3526, 1172, 2180,\n",
       "        832, 1803, 2063, 2823, 3710, 1547, 3215,  791, 1901, 4506, 4002,\n",
       "       1829,  255, 4386,  156, 2693, 1239, 1284, 3536, 1598, 1353, 2465,\n",
       "       1098, 3962, 2196, 1971,   52, 3356,  566, 4055, 3751, 3654, 2245,\n",
       "        556, 4179, 2420,  641, 1987, 4029, 1089, 2370, 1712, 4383,  749,\n",
       "        738, 3024, 3479,  712, 1679, 3601,   68, 1464, 2392, 3153, 1139,\n",
       "       4341, 1422,  702, 2742,  527, 3367,  292, 1775,  514, 3022, 1146,\n",
       "       3956,  651, 2478, 3088, 3067, 3046, 1038, 2457, 3191, 1273, 4069,\n",
       "        769,  398, 1870, 3072, 3231, 1297, 3065,  185,  887, 1119, 1559,\n",
       "       3143, 2550, 2183,  549,  409, 1639, 2101,  631, 1321, 3390, 1238,\n",
       "       4014, 1747, 3177,  818,  953, 3296, 1206,  301, 1666, 3170, 2767,\n",
       "       3831, 1213, 3760,  637, 3746, 4561, 2385, 3574, 2382,  695, 3234,\n",
       "       4013, 3300, 3275, 4425, 1176, 1454, 2306, 1416, 3061, 2598,  139,\n",
       "       3918, 4199, 1832, 2127,  526, 4128, 3388, 4205, 2564, 2442, 1034,\n",
       "        857, 3592,  116, 1613, 2363, 4274, 2186,  634, 1077, 1276, 3917,\n",
       "         53, 1181,   43, 1954, 3340, 3853, 2187, 2031, 3658, 2528, 2060,\n",
       "        506, 3808, 3345, 3833, 2876, 4167,  612, 1249, 3627, 4293, 3232,\n",
       "       1815, 2996, 2426, 2853,  649, 3161,  908, 1608, 3499, 2514, 3794,\n",
       "        763, 1875, 1590, 2877,  227,  833,  338, 3373, 3915, 2372,  671,\n",
       "       4570,  795, 3044, 2905, 4310,  559, 2024, 2517,  854, 1506,  467,\n",
       "       2318,  281,  309,  627, 2218, 2617, 3532, 3202,   89, 1795, 2922,\n",
       "       2695, 1813, 2089, 3719, 2952, 2715, 2040, 3640, 3647,   12, 1733,\n",
       "       2651, 2584, 1609, 3397, 3513, 2485, 3104, 3123, 1044, 4126, 2605,\n",
       "        674, 3972, 3320, 2943, 2597,  155, 1084,  226, 1175, 3158, 2492,\n",
       "        757, 3923, 1612,  653, 1904, 3783,  724, 3839, 1599,  961, 1801,\n",
       "        332, 2921, 1646, 1366,  334, 3503,  102, 2825, 3854, 2006,   86,\n",
       "       2530, 1760, 1767,   21, 1814, 3949, 2409, 2983, 2816, 1595, 3990,\n",
       "       2462, 3306, 2972, 2316, 1579, 3938, 1991, 2226, 2608, 4037, 3142,\n",
       "       4006, 2573, 2080, 4500,  200, 2228, 2390, 4142,  959, 4631, 1818,\n",
       "        220, 2883, 3509, 2721, 3898, 3514,  602, 2398,  964, 2630, 2879,\n",
       "       2793, 3009, 2458,  853, 3283, 1438, 2467, 1944, 2151, 2146,  282,\n",
       "       4071, 4117,  199, 4321, 3151, 3887, 4189, 2120, 2059, 2815, 2814,\n",
       "       1568, 4354, 3550, 1652, 1940, 3095, 4131, 2125, 4018, 2709, 4054,\n",
       "        765, 2452, 1116, 3056,  797,  656, 3687, 2259, 3818, 1070, 3467,\n",
       "       4220, 1797,  933,  444, 4428,  670,  365,  624, 1287, 2357,  298,\n",
       "       2704, 2418, 2856, 4160, 1647, 4322,  331, 1558, 2807, 1022, 1409,\n",
       "        871,  213, 2629, 3251, 1250, 2711,  597,  379, 3441,  373, 3252,\n",
       "        323, 3409,  650, 4625, 1539, 3617, 1670, 1257, 2770,  755, 1929,\n",
       "       1632, 1507, 2751, 3612, 3543, 4124,   46, 1471, 3111, 4202, 4531,\n",
       "       1779, 2847, 2391, 2401, 3444,  513, 1665, 4419, 4312,  686, 4445,\n",
       "       4230, 2037,  619,  639,  278, 4587, 2936, 1821, 1749, 3003, 2066,\n",
       "       3150, 2132, 1015, 4628, 1127, 2955, 4551,  253,  194,  370, 3888,\n",
       "       2434, 2821, 3485, 2903, 3738, 1041,  685,  980, 2591,  618, 3217,\n",
       "        978, 4332, 3200,   45,  557, 4036, 2023, 4610,  998, 3413, 3100,\n",
       "        420, 2503, 3382, 2958, 2367,  366, 3307, 4170, 2092, 1636,  948,\n",
       "       3454, 3133, 2376,  153, 3257, 4362, 2791,  838,  613,  884, 1952,\n",
       "       3091, 2915, 1932, 2380, 3458, 3279,  726, 2466, 4112, 3538, 2048,\n",
       "       3649, 4319,  546,  252,  138, 2531, 4511, 4364, 4176, 3092, 4545,\n",
       "       3614,  267, 4438, 2140, 3442,  494, 1798,   19, 3944, 1867, 2666,\n",
       "       2479, 2142,   98, 1948, 1010, 2231, 3337, 1461,  275, 2134, 4019,\n",
       "       1286, 3089,  991, 2644, 1959,  408, 1400, 4381, 1009,  447, 2227,\n",
       "       4295, 1827, 1126, 4520,  872,  803,  446, 3245, 3125,  923,  740,\n",
       "        717, 3238, 2274, 1396, 1755, 4026,   38, 1434, 1118, 1856, 1243,\n",
       "       3010, 3531, 1158, 3925, 4563, 3012, 1633,  891, 4519, 2497, 3174,\n",
       "       1781,   83,  493, 2004, 3035, 4336,  555, 3059, 4630, 1346, 1105,\n",
       "        245, 1231, 1117, 4528,  941, 1460, 2454, 2252,  239, 1455, 2461,\n",
       "        131, 3904, 3486, 4305,  318, 2595, 2790,  454, 3999, 2139,   35,\n",
       "       1137,   47, 3203, 1003, 3537, 1740, 2860, 1651, 1278, 2981, 3195,\n",
       "        646, 2003, 4046, 2844, 3139,  127, 2776, 2301,  534,  886, 4401,\n",
       "       2676,  822, 1375, 4486, 4033, 2342,  426, 1449, 2802, 3777, 4185,\n",
       "       1604,  817,  269, 2166, 3496, 3063, 3884, 1340, 3671, 4089, 4535,\n",
       "       2068, 1557, 4343, 2203, 3924, 4248, 4620, 2437, 3017, 1996, 2515,\n",
       "       1334, 1520, 4441, 1275,  942, 3843, 4416, 4466, 4210, 1453, 3655,\n",
       "       2222,   81, 2476, 1850, 1553, 2035, 3965, 1205, 1543, 1402, 3309,\n",
       "       1466, 2273,  548, 4374, 3683, 4408, 3021, 2002, 2067, 3623,  994,\n",
       "       1661, 3657, 1530, 3703, 3900, 4376, 4577, 1214, 4566, 4640,  962,\n",
       "       1162, 3568, 1561, 3790, 2351,  950, 3489, 1120, 2777, 4324, 1907,\n",
       "        739, 4066, 1045, 3646, 4421, 3885, 2799, 2565, 2636, 2752,  113,\n",
       "       1040, 1978, 2800, 1112, 4360,  825, 3946, 1640, 2703, 3465, 4155,\n",
       "       1093, 3542, 3635, 2916,  770, 2535, 2091, 2230,  603, 2094, 3425,\n",
       "       3937, 1869, 1050, 4479, 3702, 3031, 1726, 3049,  583, 1985, 3927,\n",
       "        647, 2349,  902, 4558, 3282,  458,  531, 2580, 3134, 4298, 3750,\n",
       "       4120, 1753,  329, 1912, 2596, 3057,  746, 4278,  889, 4361, 4003,\n",
       "       1935, 3911,  352,   63, 3475,  772,  855, 3643, 4213,  617])"
      ]
     },
     "execution_count": 11,
     "metadata": {},
     "output_type": "execute_result"
    }
   ],
   "source": [
    "samples_idx"
   ]
  },
  {
   "cell_type": "code",
   "execution_count": 21,
   "id": "a16efe3c",
   "metadata": {},
   "outputs": [],
   "source": [
    "samples_RG = [prompts_RG[idx] for idx in samples_idx]\n",
    "samples_DST = [prompts_DST[idx] for idx in samples_idx]\n",
    "samples_API = [prompts_API[idx] for idx in samples_idx]\n",
    "samples_DA = [prompts_DA[idx] for idx in samples_idx]"
   ]
  },
  {
   "cell_type": "code",
   "execution_count": 22,
   "id": "c3cea5db",
   "metadata": {},
   "outputs": [],
   "source": [
    "with open(\"samples/rg_ko_samples.json\", \"w\") as f:\n",
    "    json.dump(samples_RG, f, indent=2, ensure_ascii=False)\n",
    "with open(\"samples/dst_ko_samples.json\", \"w\") as f:\n",
    "    json.dump(samples_DST, f, indent=2, ensure_ascii=False)\n",
    "with open(\"samples/api_ko_samples.json\", \"w\") as f:\n",
    "    json.dump(samples_API, f, indent=2, ensure_ascii=False)\n",
    "with open(\"samples/da_ko_samples.json\", \"w\") as f:\n",
    "    json.dump(samples_DA, f, indent=2, ensure_ascii=False)"
   ]
  },
  {
   "cell_type": "code",
   "execution_count": 12,
   "id": "ea2c9992",
   "metadata": {},
   "outputs": [],
   "source": [
    "langs = [\"en\", \"ko\", \"hi\", \"zh\", \"fr\", \"enhi\"]\n",
    "for lang in langs:\n",
    "    filename = \"data/multi-llama/\" + lang + \"test.json\"\n",
    "    with open(filename) as json_file:\n",
    "        prompts = json.load(json_file)\n",
    "    prompts_DST = []\n",
    "    prompts_API = []\n",
    "    prompts_DA = []\n",
    "    prompts_RG = []\n",
    "    for i in range(len(prompts)):\n",
    "        if i % 4 == 0:\n",
    "            prompts_DST.append(prompts[i])\n",
    "        if i % 4 == 1:\n",
    "            prompts_API.append(prompts[i])\n",
    "        if i % 4 == 2:\n",
    "            prompts_DA.append(prompts[i])\n",
    "        if i % 4 == 3:\n",
    "            prompts_RG.append(prompts[i])\n",
    "    samples_DST = [prompts_DST[idx] for idx in samples_idx]\n",
    "    samples_API = [prompts_API[idx] for idx in samples_idx]\n",
    "    samples_DA = [prompts_DA[idx] for idx in samples_idx]\n",
    "    samples_RG = [prompts_RG[idx] for idx in samples_idx]\n",
    "    outname = \"samples_test/\" + lang + \"/\" + lang\n",
    "    with open(outname + \"_dst.json\", \"w\") as f:\n",
    "        json.dump(samples_DST, f, indent=2, ensure_ascii=False)\n",
    "    with open(outname + \"_api.json\", \"w\") as f:\n",
    "        json.dump(samples_API, f, indent=2, ensure_ascii=False)\n",
    "    with open(outname + \"_da.json\", \"w\") as f:\n",
    "        json.dump(samples_DA, f, indent=2, ensure_ascii=False)\n",
    "    with open(outname + \"_rg.json\", \"w\") as f:\n",
    "        json.dump(samples_RG, f, indent=2, ensure_ascii=False)"
   ]
  },
  {
   "cell_type": "code",
   "execution_count": 3,
   "id": "a51ad067",
   "metadata": {},
   "outputs": [],
   "source": [
    "lang = \"zh\"\n",
    "filename = \"prompts_new/dst_\" + lang + \".prompt\"\n",
    "with open(filename, 'r') as f:\n",
    "    results = f"
   ]
  },
  {
   "cell_type": "code",
   "execution_count": 4,
   "id": "4285c1c6",
   "metadata": {},
   "outputs": [
    {
     "data": {
      "text/plain": [
       "<_io.TextIOWrapper name='prompts_new/dst_zh.prompt' mode='r' encoding='UTF-8'>"
      ]
     },
     "execution_count": 4,
     "metadata": {},
     "output_type": "execute_result"
    }
   ],
   "source": [
    "results"
   ]
  },
  {
   "cell_type": "code",
   "execution_count": null,
   "id": "fa5923c8",
   "metadata": {},
   "outputs": [],
   "source": []
  }
 ],
 "metadata": {
  "kernelspec": {
   "display_name": "Python 3 (ipykernel)",
   "language": "python",
   "name": "python3"
  },
  "language_info": {
   "codemirror_mode": {
    "name": "ipython",
    "version": 3
   },
   "file_extension": ".py",
   "mimetype": "text/x-python",
   "name": "python",
   "nbconvert_exporter": "python",
   "pygments_lexer": "ipython3",
   "version": "3.8.10"
  }
 },
 "nbformat": 4,
 "nbformat_minor": 5
}

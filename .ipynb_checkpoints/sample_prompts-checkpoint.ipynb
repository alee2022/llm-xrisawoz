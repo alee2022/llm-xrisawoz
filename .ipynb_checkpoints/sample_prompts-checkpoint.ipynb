{
 "cells": [
  {
   "cell_type": "code",
   "execution_count": 2,
   "id": "4002e3ac",
   "metadata": {},
   "outputs": [],
   "source": [
    "import json\n",
    "import numpy as np\n",
    "import pickle"
   ]
  },
  {
   "cell_type": "code",
   "execution_count": 5,
   "id": "24836f3c",
   "metadata": {},
   "outputs": [],
   "source": [
    "with open(\"data/multi-llama/kotest.json\") as json_file:\n",
    "    prompts = json.load(json_file)"
   ]
  },
  {
   "cell_type": "code",
   "execution_count": 7,
   "id": "b9963fb9",
   "metadata": {},
   "outputs": [],
   "source": [
    "with open(\"samples/dst_ko_test.json\", \"w\") as f:\n",
    "    json.dump(prompts_DST, f, indent=2, ensure_ascii=False)"
   ]
  },
  {
   "cell_type": "code",
   "execution_count": 6,
   "id": "863dd261",
   "metadata": {},
   "outputs": [],
   "source": [
    "prompts_DST = []\n",
    "prompts_API = []\n",
    "prompts_DA = []\n",
    "prompts_RG = []\n",
    "for i in range(len(prompts)):\n",
    "    if i % 4 == 0:\n",
    "        prompts_DST.append(prompts[i])\n",
    "    elif i % 4 == 1:\n",
    "        prompts_API.append(prompts[i])\n",
    "    elif i % 4 == 2:\n",
    "        prompts_DA.append(prompts[i])\n",
    "    else:\n",
    "        prompts_RG.append(prompts[i])"
   ]
  },
  {
   "cell_type": "code",
   "execution_count": 22,
   "id": "2989a240",
   "metadata": {},
   "outputs": [],
   "source": [
    "# samples_idx = np.random.choice(range(len(prompts_DST)), size=250, replace=False)\n",
    "# with open(\"indices\", \"wb\") as f:\n",
    "#     pickle.dump(samples_idx, f)"
   ]
  },
  {
   "cell_type": "code",
   "execution_count": 4,
   "id": "a2fdddd1",
   "metadata": {},
   "outputs": [],
   "source": [
    "with open(\"indices\", \"rb\") as f:\n",
    "    samples_idx = pickle.load(f)"
   ]
  },
  {
   "cell_type": "code",
   "execution_count": 21,
   "id": "a16efe3c",
   "metadata": {},
   "outputs": [],
   "source": [
    "samples_RG = [prompts_RG[idx] for idx in samples_idx]\n",
    "samples_DST = [prompts_DST[idx] for idx in samples_idx]\n",
    "samples_API = [prompts_API[idx] for idx in samples_idx]\n",
    "samples_DA = [prompts_DA[idx] for idx in samples_idx]"
   ]
  },
  {
   "cell_type": "code",
   "execution_count": 22,
   "id": "c3cea5db",
   "metadata": {},
   "outputs": [],
   "source": [
    "with open(\"samples/rg_ko_samples.json\", \"w\") as f:\n",
    "    json.dump(samples_RG, f, indent=2, ensure_ascii=False)\n",
    "with open(\"samples/dst_ko_samples.json\", \"w\") as f:\n",
    "    json.dump(samples_DST, f, indent=2, ensure_ascii=False)\n",
    "with open(\"samples/api_ko_samples.json\", \"w\") as f:\n",
    "    json.dump(samples_API, f, indent=2, ensure_ascii=False)\n",
    "with open(\"samples/da_ko_samples.json\", \"w\") as f:\n",
    "    json.dump(samples_DA, f, indent=2, ensure_ascii=False)"
   ]
  },
  {
   "cell_type": "code",
   "execution_count": 3,
   "id": "ea2c9992",
   "metadata": {},
   "outputs": [],
   "source": [
    "langs = [\"hi\", \"zh\", \"fr\", \"enhi\"]\n",
    "for lang in langs:\n",
    "    filename = \"data/multi-llama/\" + lang + \"valid.json\"\n",
    "    with open(filename) as json_file:\n",
    "        prompts = json.load(json_file)\n",
    "    prompts_DST = []\n",
    "    prompts_API = []\n",
    "    prompts_DA = []\n",
    "    prompts_RG = []\n",
    "    for i in range(len(prompts)):\n",
    "        if i % 4 == 0:\n",
    "            prompts_DST.append(prompts[i])\n",
    "        elif i % 4 == 1:\n",
    "            prompts_API.append(prompts[i])\n",
    "        elif i % 4 == 2:\n",
    "            prompts_DA.append(prompts[i])\n",
    "        else:\n",
    "            prompts_RG.append(prompts[i])\n",
    "    with open(\"samples/rg_\" + lang + \"_validfull.json\", \"w\") as f:\n",
    "        json.dump(prompts_RG, f, indent=2, ensure_ascii=False)\n",
    "    with open(\"samples/dst_\" + lang + \"_validfull.json\", \"w\") as f:\n",
    "        json.dump(prompts_DST, f, indent=2, ensure_ascii=False)\n",
    "    with open(\"samples/api_\" + lang + \"_validfull.json\", \"w\") as f:\n",
    "        json.dump(prompts_API, f, indent=2, ensure_ascii=False)\n",
    "    with open(\"samples/da_\" + lang + \"_validfull.json\", \"w\") as f:\n",
    "        json.dump(prompts_DA, f, indent=2, ensure_ascii=False)"
   ]
  },
  {
   "cell_type": "code",
   "execution_count": 3,
   "id": "a51ad067",
   "metadata": {},
   "outputs": [],
   "source": [
    "lang = \"zh\"\n",
    "filename = \"prompts_new/dst_\" + lang + \".prompt\"\n",
    "with open(filename, 'r') as f:\n",
    "    results = f"
   ]
  },
  {
   "cell_type": "code",
   "execution_count": 4,
   "id": "4285c1c6",
   "metadata": {},
   "outputs": [
    {
     "data": {
      "text/plain": [
       "<_io.TextIOWrapper name='prompts_new/dst_zh.prompt' mode='r' encoding='UTF-8'>"
      ]
     },
     "execution_count": 4,
     "metadata": {},
     "output_type": "execute_result"
    }
   ],
   "source": [
    "results"
   ]
  },
  {
   "cell_type": "code",
   "execution_count": null,
   "id": "fa5923c8",
   "metadata": {},
   "outputs": [],
   "source": []
  }
 ],
 "metadata": {
  "kernelspec": {
   "display_name": "Python 3 (ipykernel)",
   "language": "python",
   "name": "python3"
  },
  "language_info": {
   "codemirror_mode": {
    "name": "ipython",
    "version": 3
   },
   "file_extension": ".py",
   "mimetype": "text/x-python",
   "name": "python",
   "nbconvert_exporter": "python",
   "pygments_lexer": "ipython3",
   "version": "3.8.10"
  }
 },
 "nbformat": 4,
 "nbformat_minor": 5
}

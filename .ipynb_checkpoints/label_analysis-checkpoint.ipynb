{
 "cells": [
  {
   "cell_type": "code",
   "execution_count": 1,
   "id": "3a57baa4",
   "metadata": {},
   "outputs": [],
   "source": [
    "import json"
   ]
  },
  {
   "cell_type": "code",
   "execution_count": 2,
   "id": "11579d6b",
   "metadata": {},
   "outputs": [],
   "source": [
    "with open(\"samples/dst_en_samples.json\") as json_file:\n",
    "    samples = json.load(json_file)"
   ]
  },
  {
   "cell_type": "code",
   "execution_count": 3,
   "id": "45b164bd",
   "metadata": {},
   "outputs": [],
   "source": [
    "def extract_state(inp):\n",
    "    tokens = inp.split(\" <\")\n",
    "    token = tokens[1].split(\"> \")\n",
    "    return token[1]"
   ]
  },
  {
   "cell_type": "code",
   "execution_count": 4,
   "id": "609f279d",
   "metadata": {},
   "outputs": [
    {
     "name": "stdout",
     "output_type": "stream",
     "text": [
      "( tv ) production_country_or_area equal_to \" Japanese TV show \" , star equal_to \" Jun Matsumoto \"\n"
     ]
    }
   ],
   "source": [
    "print(extract_state(samples[0][\"input\"]))"
   ]
  },
  {
   "cell_type": "code",
   "execution_count": 5,
   "id": "c4d9e919",
   "metadata": {},
   "outputs": [],
   "source": [
    "lst = []\n",
    "for i in range(len(samples)):\n",
    "    if extract_state(samples[i][\"input\"]) != samples[i][\"output\"]:\n",
    "        lst.append(i)"
   ]
  },
  {
   "cell_type": "code",
   "execution_count": 6,
   "id": "9ac30e37",
   "metadata": {},
   "outputs": [
    {
     "data": {
      "text/plain": [
       "135"
      ]
     },
     "execution_count": 6,
     "metadata": {},
     "output_type": "execute_result"
    }
   ],
   "source": [
    "len(lst)"
   ]
  },
  {
   "cell_type": "code",
   "execution_count": 63,
   "id": "b8cf6e88",
   "metadata": {},
   "outputs": [],
   "source": [
    "idx = 0"
   ]
  },
  {
   "cell_type": "code",
   "execution_count": 97,
   "id": "b323c016",
   "metadata": {},
   "outputs": [
    {
     "name": "stdout",
     "output_type": "stream",
     "text": [
      "INPUT: DST: <state> ( flight ) class_cabin equal_to \" economy \" , date equal_to \" next Tuesday \" , departure equal_to \" Nanjing \" , destination equal_to \" Chengdu \" <endofstate> <history> AGENT_ACTS: ( flight ) inform flight_information equal_to \" CA4524 of Air China from Terminal 2 of Lukou International Airport to Terminal 2 of Shuangliu International Airport \" USER: How much is the ticket? <endofhistory>\n",
      "OUTPUT: ( flight ) class_cabin equal_to \" economy \" , date equal_to \" next Tuesday \" , departure equal_to \" Nanjing \" , destination equal_to \" Chengdu \"\n",
      "33\n"
     ]
    }
   ],
   "source": [
    "print(\"INPUT:\", samples[idx][\"input\"])\n",
    "print(\"OUTPUT:\", samples[idx][\"output\"])\n",
    "print(idx)\n",
    "idx += 1"
   ]
  },
  {
   "cell_type": "code",
   "execution_count": 32,
   "id": "ad4bd8bb",
   "metadata": {},
   "outputs": [
    {
     "name": "stdout",
     "output_type": "stream",
     "text": [
      "INPUT: DST: <state> null <endofstate> <history> USER: Hello, I like watching TV shows and movies. Do you know any popular American TV shows from the 2000s that you would like to recommend? <endofhistory>\n",
      "OUTPUT: ( tv ) decade equal_to \" the 2000s \" , production_country_or_area equal_to \" American \"\n",
      "17\n"
     ]
    }
   ],
   "source": [
    "idx = 17\n",
    "print(\"INPUT:\", samples[idx][\"input\"])\n",
    "print(\"OUTPUT:\", samples[idx][\"output\"])\n",
    "print(idx)"
   ]
  },
  {
   "cell_type": "code",
   "execution_count": null,
   "id": "d47a47b0",
   "metadata": {},
   "outputs": [],
   "source": []
  }
 ],
 "metadata": {
  "kernelspec": {
   "display_name": "Python 3 (ipykernel)",
   "language": "python",
   "name": "python3"
  },
  "language_info": {
   "codemirror_mode": {
    "name": "ipython",
    "version": 3
   },
   "file_extension": ".py",
   "mimetype": "text/x-python",
   "name": "python",
   "nbconvert_exporter": "python",
   "pygments_lexer": "ipython3",
   "version": "3.8.10"
  }
 },
 "nbformat": 4,
 "nbformat_minor": 5
}
